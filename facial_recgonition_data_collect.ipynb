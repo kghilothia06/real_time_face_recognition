{
 "cells": [
  {
   "cell_type": "markdown",
   "metadata": {},
   "source": [
    "#python script to capture images from webcam\n",
    "#Extracts all faces from the image frame\n",
    "#stores face info into numpy arrays\n",
    "\n",
    "#1.read and show video stream , captue images\n",
    "#2.detect faces and show bounding box\n",
    "#3.flatten the largest face image and save in a numpy array\n",
    "#4.rapeat the above for multiple people to generate training data"
   ]
  },
  {
   "cell_type": "code",
   "execution_count": 4,
   "metadata": {},
   "outputs": [],
   "source": [
    "import cv2\n",
    "import numpy as np"
   ]
  },
  {
   "cell_type": "code",
   "execution_count": 5,
   "metadata": {},
   "outputs": [],
   "source": [
    "#initializing camera \n",
    "cap = cv2.VideoCapture(0)\n",
    "\n",
    "#face detection\n",
    "face_cascade = cv2.CascadeClassifier(\"haarcascade_frontalface_alt.xml\")\n",
    "skip=0\n",
    "face_data = []\n",
    "dataset_path = './data/'"
   ]
  },
  {
   "cell_type": "code",
   "execution_count": 6,
   "metadata": {},
   "outputs": [
    {
     "name": "stdout",
     "output_type": "stream",
     "text": [
      "enter the person name whose face is being scanned:luv\n",
      "1\n",
      "2\n",
      "3\n",
      "4\n",
      "5\n",
      "6\n",
      "7\n",
      "8\n",
      "9\n",
      "10\n",
      "11\n",
      "12\n",
      "13\n",
      "14\n",
      "15\n",
      "16\n",
      "17\n",
      "18\n",
      "(18, 30000)\n",
      "data successfully saved./data/luv.npy\n"
     ]
    }
   ],
   "source": [
    "file_name = input(\"enter the person name whose face is being scanned:\")\n",
    "while True:\n",
    "    ret,frame = cap.read()\n",
    "\n",
    "    #if frame is not captured for any reason then try it again\n",
    "    if ret == False:\n",
    "        continue\n",
    "    \n",
    "    gray_frame = cv2.cvtColor(frame,cv2.COLOR_BGR2GRAY)\n",
    "    \n",
    "    faces = face_cascade.detectMultiScale(frame,1.3,5)\n",
    "    #sorting faces acc to area\n",
    "    faces = sorted(faces,key = lambda f:f[2]*f[3])\n",
    "    #print(faces)\n",
    "    \n",
    "    #pick the last face as it is the laRGEST Acc to area\n",
    "    for face in faces[-1:] :\n",
    "        x,y,w,h=face\n",
    "        cv2.rectangle(frame,(x,y),(x+w,y+h),(0,255,255),2)\n",
    "        #extract (crop out reqd face) region of interest\n",
    "        offset = 10\n",
    "        face_section = frame[y-offset:y+h+offset,x-offset:x+w+offset]\n",
    "        face_section = cv2.resize(face_section,(100,100))\n",
    "    \n",
    "    skip += 1\n",
    "    if skip%10==0:\n",
    "        face_data.append(face_section)\n",
    "        print(len(face_data))\n",
    "        \n",
    "    cv2.imshow(\"Frame\" , frame)\n",
    "    cv2.imshow(\"face section\",face_section)\n",
    "\n",
    "\n",
    "    key_pressed = cv2.waitKey(1) & 0XFF\n",
    "    if key_pressed == ord('q'):\n",
    "        break\n",
    "#convert face list to numpy array\n",
    "face_data = np.asarray(face_data)\n",
    "face_data = face_data.reshape((face_data.shape[0],-1))\n",
    "print(face_data.shape)  \n",
    "\n",
    "#save this data to file system\n",
    "np.save(dataset_path+file_name+'.npy',face_data)\n",
    "print(\"data successfully saved\"+dataset_path+file_name+'.npy')\n",
    "cap.release()\n",
    "cv2.destroyAllWindows()"
   ]
  },
  {
   "cell_type": "code",
   "execution_count": null,
   "metadata": {},
   "outputs": [],
   "source": []
  }
 ],
 "metadata": {
  "kernelspec": {
   "display_name": "Python 3",
   "language": "python",
   "name": "python3"
  },
  "language_info": {
   "codemirror_mode": {
    "name": "ipython",
    "version": 3
   },
   "file_extension": ".py",
   "mimetype": "text/x-python",
   "name": "python",
   "nbconvert_exporter": "python",
   "pygments_lexer": "ipython3",
   "version": "3.7.3"
  }
 },
 "nbformat": 4,
 "nbformat_minor": 2
}
